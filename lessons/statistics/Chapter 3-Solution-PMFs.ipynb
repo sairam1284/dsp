{
 "cells": [
  {
   "cell_type": "code",
   "execution_count": 4,
   "metadata": {},
   "outputs": [],
   "source": [
    "\n",
    "%matplotlib inline\n",
    "import pandas as pd\n",
    "import numpy as np\n",
    "import math\n",
    "import nsfg\n",
    "import first\n",
    "import pandas as pd\n",
    "import thinkstats2\n",
    "import thinkplot"
   ]
  },
  {
   "cell_type": "markdown",
   "metadata": {},
   "source": [
    "**Exercise:** Something like the class size paradox appears if you survey children and ask how many children are in their family. Families with many children are more likely to appear in your sample, and families with no children have no chance to be in the sample.\n",
    "\n",
    "Use the NSFG respondent variable `numkdhh` to construct the actual distribution for the number of children under 18 in the respondents' households.\n",
    "\n",
    "Now compute the biased distribution we would see if we surveyed the children and asked them how many children under 18 (including themselves) are in their household.\n",
    "\n",
    "Plot the actual and biased distributions, and compute their means."
   ]
  },
  {
   "cell_type": "code",
   "execution_count": 5,
   "metadata": {},
   "outputs": [],
   "source": [
    "resp = nsfg.ReadFemResp()"
   ]
  },
  {
   "cell_type": "code",
   "execution_count": 43,
   "metadata": {},
   "outputs": [
    {
     "data": {
      "text/plain": [
       "7643"
      ]
     },
     "execution_count": 43,
     "metadata": {},
     "output_type": "execute_result"
    }
   ],
   "source": [
    "# Solution goes here\n",
    "kidshist = thinkstats2.Hist(resp['numkdhh'])\n",
    "kidshist.Total()"
   ]
  },
  {
   "cell_type": "code",
   "execution_count": 35,
   "metadata": {},
   "outputs": [
    {
     "name": "stdout",
     "output_type": "stream",
     "text": [
      "PMF Original: Pmf({0: 0.466178202276593, 1: 0.21405207379301322, 2: 0.19625801386889966, 3: 0.08713855815779145, 4: 0.025644380478869556, 5: 0.01072877142483318})\n",
      "Mean/Std Dev Kids-Actual: 1.024205155043831 1.1886396957670224\n"
     ]
    },
    {
     "data": {
      "image/png": "[encoded data removed]",
      "text/plain": [
       "<Figure size 432x288 with 1 Axes>"
      ]
     },
     "metadata": {
      "needs_background": "light"
     },
     "output_type": "display_data"
    }
   ],
   "source": [
    "# Solution goes here\n",
    "#This line shows the original pmf distribution\n",
    "pmf_stand = thinkstats2.Pmf(kidshist)\n",
    "print('PMF Original:', pmf_stand)\n",
    "thinkplot.Pmf(pmf_stand)\n",
    "print('Mean/Std Dev Kids-Actual:', pmf_stand.Mean(), pmf_stand.Std())"
   ]
  },
  {
   "cell_type": "code",
   "execution_count": 41,
   "metadata": {},
   "outputs": [
    {
     "name": "stdout",
     "output_type": "stream",
     "text": [
      "Mean/Std Dev Kids-Biased: 2.403679100664282 1.083176857907326\n"
     ]
    },
    {
     "data": {
      "image/png": "[encoded data removed]",
      "text/plain": [
       "<Figure size 432x288 with 1 Axes>"
      ]
     },
     "metadata": {
      "needs_background": "light"
     },
     "output_type": "display_data"
    }
   ],
   "source": [
    "# Solution goes here\n",
    "#This line will show the Biased PMF of mean kids\n",
    "def biasPMF(pmf):\n",
    "    bias_pmf = pmf.Copy()\n",
    "    for i, v in pmf.Items():\n",
    "        bias_pmf.Mult(i, i)\n",
    "    bias_pmf.Normalize()\n",
    "    return bias_pmf\n",
    "        \n",
    "bias_pmf = biasPMF(pmf_stand)\n",
    "thinkplot.Pmf(bias_pmf)\n",
    "print('Mean/Std Dev Kids-Biased:', bias_pmf.Mean(), bias_pmf.Std())"
   ]
  },
  {
   "cell_type": "code",
   "execution_count": 45,
   "metadata": {},
   "outputs": [],
   "source": [
    "# Solution goes here\n",
    "def CohenE(m1, v1, m2, v2, n1, n2):\n",
    "    pooled_var = (n1*v1+n2*v2)/(n1+n2)\n",
    "    d = (m1-m2)/math.sqrt(pooled_var)\n",
    "    return d"
   ]
  },
  {
   "cell_type": "code",
   "execution_count": 48,
   "metadata": {},
   "outputs": [
    {
     "data": {
      "text/plain": [
       "-1.2131172658578584"
      ]
     },
     "execution_count": 48,
     "metadata": {},
     "output_type": "execute_result"
    }
   ],
   "source": [
    "CohenE(pmf_stand.Mean(), pmf_stand.Var(), bias_pmf.Mean(), bias_pmf.Var(), kidshist.Total(), kidshist.Total())"
   ]
  },
  {
   "cell_type": "code",
   "execution_count": 42,
   "metadata": {},
   "outputs": [],
   "source": [
    "# Solution goes here"
   ]
  },
  {
   "cell_type": "markdown",
   "metadata": {},
   "source": [
    "**Exercise:** I started this book with the question, \"Are first babies more likely to be late?\" To address it, I computed the difference in means between groups of babies, but I ignored the possibility that there might be a difference between first babies and others for the same woman.\n",
    "\n",
    "To address this version of the question, select respondents who have at least two live births and compute pairwise differences. Does this formulation of the question yield a different result?\n",
    "\n",
    "Hint: use `nsfg.MakePregMap`:"
   ]
  },
  {
   "cell_type": "code",
   "execution_count": 43,
   "metadata": {},
   "outputs": [],
   "source": [
    "live, firsts, others = first.MakeFrames()"
   ]
  },
  {
   "cell_type": "code",
   "execution_count": 44,
   "metadata": {},
   "outputs": [],
   "source": [
    "preg_map = nsfg.MakePregMap(live)"
   ]
  },
  {
   "cell_type": "code",
   "execution_count": 45,
   "metadata": {},
   "outputs": [],
   "source": [
    "# Solution goes here"
   ]
  },
  {
   "cell_type": "code",
   "execution_count": 46,
   "metadata": {},
   "outputs": [],
   "source": [
    "# Solution goes here"
   ]
  },
  {
   "cell_type": "code",
   "execution_count": 47,
   "metadata": {},
   "outputs": [],
   "source": [
    "# Solution goes here"
   ]
  },
  {
   "cell_type": "markdown",
   "metadata": {},
   "source": [
    "**Exercise:** In most foot races, everyone starts at the same time. If you are a fast runner, you usually pass a lot of people at the beginning of the race, but after a few miles everyone around you is going at the same speed.\n",
    "When I ran a long-distance (209 miles) relay race for the first time, I noticed an odd phenomenon: when I overtook another runner, I was usually much faster, and when another runner overtook me, he was usually much faster.\n",
    "\n",
    "At first I thought that the distribution of speeds might be bimodal; that is, there were many slow runners and many fast runners, but few at my speed.\n",
    "\n",
    "Then I realized that I was the victim of a bias similar to the effect of class size. The race was unusual in two ways: it used a staggered start, so teams started at different times; also, many teams included runners at different levels of ability.\n",
    "\n",
    "As a result, runners were spread out along the course with little relationship between speed and location. When I joined the race, the runners near me were (pretty much) a random sample of the runners in the race.\n",
    "\n",
    "So where does the bias come from? During my time on the course, the chance of overtaking a runner, or being overtaken, is proportional to the difference in our speeds. I am more likely to catch a slow runner, and more likely to be caught by a fast runner. But runners at the same speed are unlikely to see each other.\n",
    "\n",
    "Write a function called `ObservedPmf` that takes a `Pmf` representing the actual distribution of runners’ speeds, and the speed of a running observer, and returns a new `Pmf` representing the distribution of runners’ speeds as seen by the observer.\n",
    "\n",
    "To test your function, you can use `relay.py`, which reads the results from the James Joyce Ramble 10K in Dedham MA and converts the pace of each runner to mph.\n",
    "\n",
    "Compute the distribution of speeds you would observe if you ran a relay race at 7 mph with this group of runners."
   ]
  },
  {
   "cell_type": "code",
   "execution_count": 49,
   "metadata": {},
   "outputs": [],
   "source": [
    "import relay\n",
    "\n",
    "results = relay.ReadResults()\n",
    "speeds = relay.GetSpeeds(results)\n",
    "speeds = relay.BinData(speeds, 3, 12, 100)"
   ]
  },
  {
   "cell_type": "code",
   "execution_count": 50,
   "metadata": {},
   "outputs": [
    {
     "data": {
      "image/png": "[encoded data removed]",
      "text/plain": [
       "<Figure size 432x288 with 1 Axes>"
      ]
     },
     "metadata": {
      "needs_background": "light"
     },
     "output_type": "display_data"
    }
   ],
   "source": [
    "pmf = thinkstats2.Pmf(speeds, 'actual speeds')\n",
    "thinkplot.Pmf(pmf)\n",
    "thinkplot.Config(xlabel='Speed (mph)', ylabel='PMF')"
   ]
  },
  {
   "cell_type": "code",
   "execution_count": 55,
   "metadata": {},
   "outputs": [
    {
     "data": {
      "text/plain": [
       "Pmf({12.09: 0.0006265664160401002, 11.73: 0.0012531328320802004, 11.46: 0.0006265664160401002, 11.28: 0.0012531328320802004, 11.1: 0.0006265664160401002, 11.01: 0.0018796992481203006, 10.92: 0.0006265664160401002, 10.83: 0.0006265664160401002, 10.559999999999999: 0.0006265664160401002, 10.379999999999999: 0.0006265664160401002, 10.2: 0.0006265664160401002, 10.11: 0.0012531328320802004, 10.02: 0.0006265664160401002, 9.93: 0.0012531328320802004, 9.84: 0.0006265664160401002, 9.75: 0.002506265664160401, 9.66: 0.0043859649122807015, 9.57: 0.0006265664160401002, 9.48: 0.003132832080200501, 9.39: 0.005639097744360902, 9.3: 0.0012531328320802004, 9.21: 0.0037593984962406013, 9.120000000000001: 0.002506265664160401, 9.030000000000001: 0.0018796992481203006, 8.940000000000001: 0.006265664160401002, 8.85: 0.005012531328320802, 8.76: 0.008771929824561403, 8.67: 0.009398496240601503, 8.58: 0.005639097744360902, 8.49: 0.010025062656641603, 8.4: 0.0043859649122807015, 8.309999999999999: 0.010651629072681704, 8.219999999999999: 0.012531328320802004, 8.129999999999999: 0.020050125313283207, 8.04: 0.012531328320802004, 7.95: 0.016917293233082706, 7.86: 0.023809523809523808, 7.77: 0.021929824561403508, 7.68: 0.022556390977443608, 7.59: 0.02694235588972431, 7.5: 0.023809523809523808, 7.41: 0.018796992481203006, 7.32: 0.02694235588972431, 7.23: 0.02944862155388471, 7.14: 0.018796992481203006, 7.05: 0.023182957393483708, 6.96: 0.03195488721804511, 6.87: 0.03195488721804511, 6.779999999999999: 0.02882205513784461, 6.6899999999999995: 0.03822055137844611, 6.6: 0.03195488721804511, 6.51: 0.03258145363408521, 6.42: 0.03571428571428571, 6.33: 0.040100250626566414, 6.24: 0.03696741854636591, 6.15: 0.03007518796992481, 6.0600000000000005: 0.03320802005012531, 5.970000000000001: 0.02694235588972431, 5.88: 0.015664160401002505, 5.79: 0.023809523809523808, 5.7: 0.02944862155388471, 5.609999999999999: 0.020050125313283207, 5.52: 0.019423558897243107, 5.43: 0.020676691729323307, 5.34: 0.008145363408521303, 5.25: 0.019423558897243107, 5.16: 0.009398496240601503, 5.07: 0.007518796992481203, 4.98: 0.006265664160401002, 4.89: 0.005012531328320802, 4.8: 0.0043859649122807015, 4.71: 0.003132832080200501, 4.62: 0.0006265664160401002, 4.53: 0.002506265664160401, 4.4399999999999995: 0.0006265664160401002, 4.26: 0.0006265664160401002, 4.17: 0.0012531328320802004, 4.08: 0.002506265664160401, 3.99: 0.0006265664160401002, 3.36: 0.0006265664160401002, 3.27: 0.0018796992481203006, 3.09: 0.0006265664160401002}, 'actual speeds')"
      ]
     },
     "execution_count": 55,
     "metadata": {},
     "output_type": "execute_result"
    }
   ],
   "source": [
    "# Solution goes here\n",
    "pmf"
   ]
  },
  {
   "cell_type": "code",
   "execution_count": 86,
   "metadata": {},
   "outputs": [],
   "source": [
    "# Solution goes here\n",
    "def biasSpeed(PMF, speed=7):\n",
    "    speedbias = pmf.Copy()\n",
    "    for v in pmf.Values():\n",
    "        #print(i,v)\n",
    "        speedbias[v] *= abs(v-speed)\n",
    "        speedbias.Normalize()\n",
    "    return speedbias"
   ]
  },
  {
   "cell_type": "code",
   "execution_count": 87,
   "metadata": {},
   "outputs": [],
   "source": [
    "output = biasSpeed(pmf)"
   ]
  },
  {
   "cell_type": "code",
   "execution_count": 88,
   "metadata": {},
   "outputs": [
    {
     "data": {
      "image/png": "[encoded data removed]",
      "text/plain": [
       "<Figure size 432x288 with 1 Axes>"
      ]
     },
     "metadata": {
      "needs_background": "light"
     },
     "output_type": "display_data"
    }
   ],
   "source": [
    "thinkplot.Hist(output)"
   ]
  },
  {
   "cell_type": "code",
   "execution_count": null,
   "metadata": {},
   "outputs": [],
   "source": []
  }
 ],
 "metadata": {
  "kernelspec": {
   "display_name": "Python 3",
   "language": "python",
   "name": "python3"
  },
  "language_info": {
   "codemirror_mode": {
    "name": "ipython",
    "version": 3
   },
   "file_extension": ".py",
   "mimetype": "text/x-python",
   "name": "python",
   "nbconvert_exporter": "python",
   "pygments_lexer": "ipython3",
   "version": "3.8.3"
  }
 },
 "nbformat": 4,
 "nbformat_minor": 4
}
