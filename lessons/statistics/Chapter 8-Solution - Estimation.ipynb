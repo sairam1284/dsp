{
 "cells": [
  {
   "cell_type": "code",
   "execution_count": 1,
   "metadata": {},
   "outputs": [],
   "source": [
    "%matplotlib inline\n",
    "import pandas as pd\n",
    "import numpy as np\n",
    "import math\n",
    "import nsfg\n",
    "import first\n",
    "import pandas as pd\n",
    "import thinkstats2\n",
    "import thinkplot\n",
    "import matplotlib.pyplot as plt\n",
    "import scipy.stats as stats\n",
    "import seaborn as sns"
   ]
  },
  {
   "cell_type": "code",
   "execution_count": 72,
   "metadata": {},
   "outputs": [
    {
     "name": "stdout",
     "output_type": "stream",
     "text": [
      "rmse xbar 0.3622318189307347\n",
      "rmse median 0.4452940627899768\n"
     ]
    }
   ],
   "source": [
    "#Building a probability Function\n",
    "import random\n",
    "def RMSE(estimates, actual):\n",
    "    e2 = [(estimate-actual)**2 for estimate in estimates] \n",
    "    mse = np.mean(e2)\n",
    "    return math.sqrt(mse)\n",
    "\n",
    "#The larger n is, the lower the MSE will be since you will be closer to the mean with larger sample sizes\n",
    "def Estimate1(n=7, m=100):\n",
    "    mu = 0\n",
    "    sigma = 1\n",
    "    means = []\n",
    "    medians = []\n",
    "    for _ in range(m):\n",
    "        xs = [random.gauss(mu, sigma) for i in range(n)] \n",
    "        xbar = np.mean(xs)\n",
    "        median = np.median(xs)\n",
    "        means.append(xbar)\n",
    "        medians.append(median)\n",
    "    print('rmse xbar', RMSE(means, mu))\n",
    "    print('rmse median', RMSE(medians, mu))\n",
    "\n",
    "Estimate1()"
   ]
  },
  {
   "cell_type": "code",
   "execution_count": 84,
   "metadata": {},
   "outputs": [],
   "source": [
    "def Simul(mu=90, sigma=7.5, n=9, m=200):\n",
    "    means = []\n",
    "    for i in range(m):\n",
    "        xs = np.random.normal(mu, sigma, n)\n",
    "        xbar = np.mean(xs)\n",
    "        means.append(xbar)\n",
    "    \n",
    "    cdf = thinkstats2.Cdf(means)\n",
    "    ci = cdf.Percentile(5), cdf.Percentile(95)\n",
    "    stderror = RMSE(means, mu)\n",
    "    return cdf, stderror"
   ]
  },
  {
   "cell_type": "code",
   "execution_count": 87,
   "metadata": {},
   "outputs": [
    {
     "name": "stdout",
     "output_type": "stream",
     "text": [
      "RMSE: 2.612151753578551\n"
     ]
    },
    {
     "data": {
      "image/png": "[encoded data removed]",
      "text/plain": [
       "<Figure size 432x288 with 1 Axes>"
      ]
     },
     "metadata": {
      "needs_background": "light"
     },
     "output_type": "display_data"
    }
   ],
   "source": [
    "output = Simul()\n",
    "print('RMSE:', output[1])\n",
    "thinkplot.Cdf(output[0])\n",
    "thinkplot.Plot([output[0].Percentile(5), output[0].Percentile(5)], [0, 1], linewidth=3)\n",
    "thinkplot.Plot([output[0].Percentile(95), output[0].Percentile(95)], [0, 1], linewidth=3)"
   ]
  },
  {
   "cell_type": "markdown",
   "metadata": {},
   "source": [
    "### Exponential"
   ]
  },
  {
   "cell_type": "code",
   "execution_count": 101,
   "metadata": {},
   "outputs": [
    {
     "data": {
      "text/plain": [
       "(0.11803820503236212, 0.1204844742847115)"
      ]
     },
     "execution_count": 101,
     "metadata": {},
     "output_type": "execute_result"
    }
   ],
   "source": [
    "a = np.array([5.384, 4.493, 19.198, 2.790, 6.122, 12.844])\n",
    "Lambda = 1/a.mean() #Good but does not work well with outliers\n",
    "Lambdam = math.log(2)/np.median(a)\n",
    "Lambda, Lambdam"
   ]
  },
  {
   "cell_type": "markdown",
   "metadata": {},
   "source": [
    "### Exercise 8.2 \n",
    "Suppose you draw a sample with size n = 10 from an exponen- tial distribution with λ = 2. Simulate this experiment 1000 times and plot the sampling distribution of the estimate L. Compute the standard error of the estimate and the 90% confidence interval.\n",
    "Repeat the experiment with a few different values of n and make a plot of standard error versus n."
   ]
  },
  {
   "cell_type": "code",
   "execution_count": 168,
   "metadata": {},
   "outputs": [
    {
     "name": "stdout",
     "output_type": "stream",
     "text": [
      "Conf Interval:  (1.275520924485231, 3.5173563604042775)\n",
      "Std Error: 0.7725527773340661\n"
     ]
    },
    {
     "data": {
      "image/png": "[encoded data removed]",
      "text/plain": [
       "<Figure size 432x288 with 1 Axes>"
      ]
     },
     "metadata": {
      "needs_background": "light"
     },
     "output_type": "display_data"
    }
   ],
   "source": [
    "def SimExp(n=10, lam=2, m=1000):\n",
    "    means = []\n",
    "    for i in range(m):\n",
    "        xs = np.random.exponential(1/lam, n)\n",
    "        new_xs = 1/np.mean(xs)\n",
    "        means.append(new_xs)\n",
    "    \n",
    "    serror = RMSE(means, lam)\n",
    "    cdf = thinkstats2.Cdf(means)\n",
    "    #Confidence Interval:\n",
    "    ci = cdf.Percentile(5), cdf.Percentile(95)\n",
    "    print('Conf Interval: ', ci)\n",
    "    print('Std Error:', serror)\n",
    "    return means, serror, cdf\n",
    "\n",
    "outcome = SimExp()\n",
    "thinkplot.Plot(outcome[2])\n",
    "    \n",
    "    \n"
   ]
  },
  {
   "cell_type": "code",
   "execution_count": 167,
   "metadata": {},
   "outputs": [
    {
     "name": "stderr",
     "output_type": "stream",
     "text": [
      "/Users/sairamsubramaniam/opt/anaconda3/lib/python3.8/site-packages/numpy/core/fromnumeric.py:3334: RuntimeWarning: Mean of empty slice.\n",
      "  return _methods._mean(a, axis=axis, dtype=dtype,\n",
      "/Users/sairamsubramaniam/opt/anaconda3/lib/python3.8/site-packages/numpy/core/_methods.py:161: RuntimeWarning: invalid value encountered in double_scalars\n",
      "  ret = ret.dtype.type(ret / rcount)\n"
     ]
    },
    {
     "name": "stdout",
     "output_type": "stream",
     "text": [
      "Conf Interval:  (nan, nan)\n",
      "Std Error: nan\n",
      "Conf Interval:  (1.5958922876847914, 2.542908202650432)\n",
      "Std Error: 0.3001371463395343\n",
      "Conf Interval:  (1.695998109861955, 2.369090408762344)\n",
      "Std Error: 0.2077063674300864\n",
      "Conf Interval:  (1.7441083868409049, 2.301355140296873)\n",
      "Std Error: 0.16731002280597862\n",
      "Conf Interval:  (1.7769735485638463, 2.2568487198819556)\n",
      "Std Error: 0.14245971463022514\n"
     ]
    },
    {
     "data": {
      "text/plain": [
       "[<matplotlib.lines.Line2D at 0x7ff952243f40>]"
      ]
     },
     "execution_count": 167,
     "metadata": {},
     "output_type": "execute_result"
    },
    {
     "data": {
      "image/png": "[encoded data removed]",
      "text/plain": [
       "<Figure size 432x288 with 1 Axes>"
      ]
     },
     "metadata": {
      "needs_background": "light"
     },
     "output_type": "display_data"
    }
   ],
   "source": [
    "def SimMult(nvals):\n",
    "    errlist = []\n",
    "    for i in nvals:\n",
    "        errlist.append(SimExp(i)[1])\n",
    "    return errlist, nvals\n",
    "\n",
    "test = SimMult(np.arange(0, 500, 100))\n",
    "\n",
    "plt.plot(test[1], test[0])"
   ]
  },
  {
   "cell_type": "markdown",
   "metadata": {},
   "source": [
    "### Solution:\n",
    "1. Using the original conditions and the Mean as the estimator, the results are Conf Interval~  (1.275520924485231, 3.5173563604042775) Std Error~ 0.7725527773340661\n",
    "\n",
    "2. As the size per sample goes up, the std error drops.  This makes sense since the larger the sample, the more likely it is that the mean of the sample will be closer to the Actual Mean.  "
   ]
  },
  {
   "cell_type": "markdown",
   "metadata": {},
   "source": [
    "### Exercise 8.3 \n",
    "In games like hockey and soccer, the time between goals is roughly exponential. So you could estimate a team’s goal-scoring rate by observing the number of goals they score in a game. This estimation process is a little different from sampling the time between goals, so let’s see how it works.\n",
    "Write a function that takes a goal-scoring rate, lam, in goals per game, and simulates a game by generating the time between goals until the total time exceeds 1 game, then returns the number of goals scored.\n",
    "Write another function that simulates many games, stores the estimates of lam, then computes their mean error and RMSE.\n",
    "Is this way of making an estimate biased? Plot the sampling distribution of the estimates and the 90% confidence interval. What is the standard error? What happens to sampling error for increasing values of lam?"
   ]
  },
  {
   "cell_type": "code",
   "execution_count": 233,
   "metadata": {},
   "outputs": [
    {
     "data": {
      "text/plain": [
       "12"
      ]
     },
     "execution_count": 233,
     "metadata": {},
     "output_type": "execute_result"
    }
   ],
   "source": [
    "def Goals(lam):\n",
    "    time = 0\n",
    "    goals = 0\n",
    "    while time < 1:\n",
    "        time_between = random.expovariate(lam)\n",
    "        goals += 1\n",
    "        time+= time_between\n",
    "    return goals\n",
    "\n",
    "Goals(1)"
   ]
  },
  {
   "cell_type": "code",
   "execution_count": 248,
   "metadata": {},
   "outputs": [
    {
     "data": {
      "text/plain": [
       "(3.0766865293688923, 1.008)"
      ]
     },
     "execution_count": 248,
     "metadata": {},
     "output_type": "execute_result"
    },
    {
     "data": {
      "image/png": "[encoded data removed]",
      "text/plain": [
       "<Figure size 432x288 with 1 Axes>"
      ]
     },
     "metadata": {
      "needs_background": "light"
     },
     "output_type": "display_data"
    }
   ],
   "source": [
    "def Games(lam=8, m=1000):\n",
    "    result = []\n",
    "    for i in range(m):\n",
    "        result.append(Goals(lam))\n",
    "    #Standard Error\n",
    "    serror = RMSE(result, lam)\n",
    "    #Mean Error\n",
    "    errors = [i-lam for i in result]\n",
    "    merror = np.mean(errors)\n",
    "    cdf = thinkstats2.Cdf(result)\n",
    "    thinkplot.Plot(cdf)\n",
    "    ci = cdf.Percentile(5), cdf.Percentile(95)\n",
    "    thinkplot.Plot([ci[0], ci[0]], [0, 1])\n",
    "    thinkplot.Plot([ci[1], ci[1]], [0, 1])\n",
    "    hist = thinkstats2.Pmf(result)\n",
    "    thinkplot.Pmf(hist)\n",
    "    return serror, merror\n",
    "output = Games()\n",
    "output"
   ]
  },
  {
   "cell_type": "code",
   "execution_count": null,
   "metadata": {},
   "outputs": [],
   "source": []
  },
  {
   "cell_type": "code",
   "execution_count": null,
   "metadata": {},
   "outputs": [],
   "source": []
  }
 ],
 "metadata": {
  "kernelspec": {
   "display_name": "Python 3",
   "language": "python",
   "name": "python3"
  },
  "language_info": {
   "codemirror_mode": {
    "name": "ipython",
    "version": 3
   },
   "file_extension": ".py",
   "mimetype": "text/x-python",
   "name": "python",
   "nbconvert_exporter": "python",
   "pygments_lexer": "ipython3",
   "version": "3.8.3"
  }
 },
 "nbformat": 4,
 "nbformat_minor": 4
}
